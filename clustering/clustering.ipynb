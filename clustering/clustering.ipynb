{
 "cells": [
  {
   "cell_type": "markdown",
   "metadata": {},
   "source": [
    "# Crowdfunding Projects Clustering\n",
    "#### Author: Kunyu He, CAPP'20, The University of Chicago"
   ]
  },
  {
   "cell_type": "code",
   "execution_count": 1,
   "metadata": {
    "ExecuteTime": {
     "end_time": "2019-06-09T18:56:34.509995Z",
     "start_time": "2019-06-09T18:56:34.505831Z"
    }
   },
   "outputs": [],
   "source": [
    "import sys\n",
    "sys.path.append('../codes/')"
   ]
  },
  {
   "cell_type": "code",
   "execution_count": 2,
   "metadata": {
    "ExecuteTime": {
     "end_time": "2019-06-09T18:56:38.139810Z",
     "start_time": "2019-06-09T18:56:34.890282Z"
    },
    "scrolled": true
   },
   "outputs": [],
   "source": [
    "import pandas as pd\n",
    "import numpy as np\n",
    "\n",
    "from sklearn.cluster import KMeans\n",
    " \n",
    "from featureEngineering import FeaturePipeLine, create_dirs\n",
    "from viz import read_data\n",
    "from kmeans import KMeansPipeline"
   ]
  },
  {
   "cell_type": "code",
   "execution_count": 3,
   "metadata": {
    "ExecuteTime": {
     "end_time": "2019-06-09T18:56:38.151751Z",
     "start_time": "2019-06-09T18:56:38.144439Z"
    }
   },
   "outputs": [],
   "source": [
    "INPUT_DIR = \"../data/\""
   ]
  },
  {
   "cell_type": "markdown",
   "metadata": {},
   "source": [
    "## 1. Load Data"
   ]
  },
  {
   "cell_type": "code",
   "execution_count": 4,
   "metadata": {
    "ExecuteTime": {
     "end_time": "2019-06-09T18:56:40.673826Z",
     "start_time": "2019-06-09T18:56:38.157263Z"
    }
   },
   "outputs": [
    {
     "name": "stdout",
     "output_type": "stream",
     "text": [
      "<class 'pandas.core.frame.DataFrame'>\n",
      "RangeIndex: 124976 entries, 0 to 124975\n",
      "Data columns (total 27 columns):\n",
      "projectid                                 124976 non-null object\n",
      "teacher_acctid                            124976 non-null object\n",
      "schoolid                                  124976 non-null object\n",
      "school_ncesid                             115743 non-null float64\n",
      "school_latitude                           124976 non-null float64\n",
      "school_longitude                          124976 non-null float64\n",
      "school_city                               124976 non-null object\n",
      "school_state                              124976 non-null object\n",
      "school_metro                              109752 non-null object\n",
      "school_district                           124804 non-null object\n",
      "school_county                             124976 non-null object\n",
      "school_charter                            124976 non-null object\n",
      "school_magnet                             124976 non-null object\n",
      "teacher_prefix                            124976 non-null object\n",
      "primary_focus_subject                     124961 non-null object\n",
      "primary_focus_area                        124961 non-null object\n",
      "secondary_focus_subject                   84420 non-null object\n",
      "secondary_focus_area                      84420 non-null object\n",
      "resource_type                             124959 non-null object\n",
      "poverty_level                             124976 non-null object\n",
      "grade_level                               124973 non-null object\n",
      "total_price_including_optional_support    124976 non-null float64\n",
      "students_reached                          124917 non-null float64\n",
      "eligible_double_your_impact_match         124976 non-null object\n",
      "date_posted                               124976 non-null datetime64[ns]\n",
      "datefullyfunded                           124976 non-null datetime64[ns]\n",
      "fully_funded                              124976 non-null float64\n",
      "dtypes: datetime64[ns](2), float64(6), object(19)\n",
      "memory usage: 25.7+ MB\n"
     ]
    }
   ],
   "source": [
    "project = read_data(\"projects.csv\", drop_na=False)\n",
    "project.info()"
   ]
  },
  {
   "cell_type": "markdown",
   "metadata": {},
   "source": [
    "## 2. Data Preprocessing"
   ]
  },
  {
   "cell_type": "markdown",
   "metadata": {},
   "source": [
    "As we are dealing with a clustering task, there's no need to split the data set before preprocessing. First, adjust the configuration of preprocessing pipeline."
   ]
  },
  {
   "cell_type": "code",
   "execution_count": 5,
   "metadata": {
    "ExecuteTime": {
     "end_time": "2019-06-09T18:56:40.695159Z",
     "start_time": "2019-06-09T18:56:40.679326Z"
    }
   },
   "outputs": [],
   "source": [
    "FeaturePipeLine.TO_CREATE_CON = {'days_fully_funded': (['datefullyfunded',\n",
    "                                                        'date_posted'],\n",
    "                                                       lambda x, y: (x - y + pd.Timedelta(days=1)).dt.days)}"
   ]
  },
  {
   "cell_type": "markdown",
   "metadata": {},
   "source": [
    "Note that compared to the preprocessing pipeline for the classification task, I dropped `school_city`, `school_state`, `school_district`, and `school_county`.\n",
    "\n",
    "Note that as I'm no longer predicting whether a project would fail to get fully funded in 60 days, leakage from incorporating both `date_posted` and `datefullyfunded` is no longer of concern. Thus, I further included the year and month of year information for `datefullyfunded` into the processed data. Also, I added a new feature `days_fully_funded` as the number of days the project took to get fully funded."
   ]
  },
  {
   "cell_type": "code",
   "execution_count": 6,
   "metadata": {
    "ExecuteTime": {
     "end_time": "2019-06-09T18:56:45.679314Z",
     "start_time": "2019-06-09T18:56:40.699149Z"
    },
    "scrolled": false
   },
   "outputs": [
    {
     "name": "stderr",
     "output_type": "stream",
     "text": [
      "#----------------------------------------------------------------------------------------------------------------------------------#\n",
      "<BATCH Full> Creating the preprocessing pipeline for 'projects.csv'.\n",
      "\tFinished reading cleaned data.\n",
      "\n",
      "<BATCH Full: Training data preprocessing> Pipeline using Standard Scaler.\n",
      "\n",
      "\n",
      "Start to impute missing values continuous variables:\n",
      "\tMissing values in 'students_reached' imputed with column  median 30.000.\n",
      "\n",
      "\n",
      "Start to fill in missing values:\n",
      "\tFilled missing values in 'grade_level' with 'Grades PreK-2'.\n",
      "\tFilled missing values in 'school_metro' with 'urban'.\n",
      "\tFilled missing values in 'school_district' with 'MISC'.\n",
      "\tFilled missing values in 'primary_focus_subject' with 'Other'.\n",
      "\tFilled missing values in 'primary_focus_area' with 'Other'.\n",
      "\tFilled missing values in 'secondary_focus_subject' with 'MISC'.\n",
      "\tFilled missing values in 'secondary_focus_area' with 'MISC'.\n",
      "\tFilled missing values in 'resource_type' with 'Technology'.\n",
      "\n",
      "\n",
      "Start to create new continuous variables.\n",
      "\tFunction applied on variables ['datefullyfunded', 'date_posted'] to create 'days_fully_funded'\n",
      "\n",
      "\n",
      "Start to extract time from datetime variables.\n",
      "\tExtracted year from 'datefullyfunded' into 'datefullyfunded_year'.\n",
      "\tExtracted month from 'datefullyfunded' into 'datefullyfunded_month'.\n",
      "\tExtracted year from 'date_posted' into 'date_posted_year'.\n",
      "\tExtracted month from 'date_posted' into 'date_posted_month'.\n",
      "\n",
      "\n",
      "Finished transforming the following variables: ['school_charter', 'school_magnet', 'eligible_double_your_impact_match'] to binaries.\n",
      "Finished extracting the target (y).\n",
      "Finished extracting the features (X).\n",
      "\tTrain feature names wrote to 'train_features.txt' under directory '../processed_data/Batch Full/'\n"
     ]
    },
    {
     "data": {
      "text/plain": [
       "<featureEngineering.FeaturePipeLine at 0x20c0e054198>"
      ]
     },
     "execution_count": 6,
     "metadata": {},
     "output_type": "execute_result"
    }
   ],
   "source": [
    "train_pipe = FeaturePipeLine(\"Full\", project, ask_user=False, test=False)\n",
    "train_pipe.con_fill_na().str_fill_na().con_create().extract_date().to_binary().feature_target_split()"
   ]
  },
  {
   "cell_type": "markdown",
   "metadata": {},
   "source": [
    "Preprocess the data and keep enough information to describe each cluster."
   ]
  },
  {
   "cell_type": "code",
   "execution_count": 7,
   "metadata": {
    "scrolled": true
   },
   "outputs": [
    {
     "data": {
      "text/html": [
       "<div>\n",
       "<style scoped>\n",
       "    .dataframe tbody tr th:only-of-type {\n",
       "        vertical-align: middle;\n",
       "    }\n",
       "\n",
       "    .dataframe tbody tr th {\n",
       "        vertical-align: top;\n",
       "    }\n",
       "\n",
       "    .dataframe thead th {\n",
       "        text-align: right;\n",
       "    }\n",
       "</style>\n",
       "<table border=\"1\" class=\"dataframe\">\n",
       "  <thead>\n",
       "    <tr style=\"text-align: right;\">\n",
       "      <th></th>\n",
       "      <th>school_latitude</th>\n",
       "      <th>school_longitude</th>\n",
       "      <th>school_city</th>\n",
       "      <th>school_state</th>\n",
       "      <th>school_metro</th>\n",
       "      <th>school_district</th>\n",
       "      <th>school_county</th>\n",
       "      <th>school_charter</th>\n",
       "      <th>school_magnet</th>\n",
       "      <th>teacher_prefix</th>\n",
       "      <th>...</th>\n",
       "      <th>poverty_level</th>\n",
       "      <th>grade_level</th>\n",
       "      <th>total_price_including_optional_support</th>\n",
       "      <th>students_reached</th>\n",
       "      <th>eligible_double_your_impact_match</th>\n",
       "      <th>days_fully_funded</th>\n",
       "      <th>datefullyfunded_year</th>\n",
       "      <th>datefullyfunded_month</th>\n",
       "      <th>date_posted_year</th>\n",
       "      <th>date_posted_month</th>\n",
       "    </tr>\n",
       "  </thead>\n",
       "  <tbody>\n",
       "    <tr>\n",
       "      <th>0</th>\n",
       "      <td>41.807654</td>\n",
       "      <td>-87.673257</td>\n",
       "      <td>Chicago</td>\n",
       "      <td>IL</td>\n",
       "      <td>urban</td>\n",
       "      <td>Pershing Elem Network</td>\n",
       "      <td>Cook</td>\n",
       "      <td>0.0</td>\n",
       "      <td>0.0</td>\n",
       "      <td>Mrs.</td>\n",
       "      <td>...</td>\n",
       "      <td>highest poverty</td>\n",
       "      <td>Grades PreK-2</td>\n",
       "      <td>1498.61</td>\n",
       "      <td>31.0</td>\n",
       "      <td>0.0</td>\n",
       "      <td>19</td>\n",
       "      <td>2013</td>\n",
       "      <td>5</td>\n",
       "      <td>2013</td>\n",
       "      <td>4</td>\n",
       "    </tr>\n",
       "    <tr>\n",
       "      <th>1</th>\n",
       "      <td>34.296596</td>\n",
       "      <td>-119.296596</td>\n",
       "      <td>Ventura</td>\n",
       "      <td>CA</td>\n",
       "      <td>urban</td>\n",
       "      <td>Ventura Unif School District</td>\n",
       "      <td>Ventura</td>\n",
       "      <td>0.0</td>\n",
       "      <td>0.0</td>\n",
       "      <td>Mrs.</td>\n",
       "      <td>...</td>\n",
       "      <td>highest poverty</td>\n",
       "      <td>Grades 3-5</td>\n",
       "      <td>282.47</td>\n",
       "      <td>28.0</td>\n",
       "      <td>1.0</td>\n",
       "      <td>12</td>\n",
       "      <td>2012</td>\n",
       "      <td>4</td>\n",
       "      <td>2012</td>\n",
       "      <td>4</td>\n",
       "    </tr>\n",
       "    <tr>\n",
       "      <th>2</th>\n",
       "      <td>34.078625</td>\n",
       "      <td>-118.257834</td>\n",
       "      <td>Los Angeles</td>\n",
       "      <td>CA</td>\n",
       "      <td>urban</td>\n",
       "      <td>Los Angeles Unif Sch Dist</td>\n",
       "      <td>Los Angeles</td>\n",
       "      <td>0.0</td>\n",
       "      <td>0.0</td>\n",
       "      <td>Ms.</td>\n",
       "      <td>...</td>\n",
       "      <td>high poverty</td>\n",
       "      <td>Grades 3-5</td>\n",
       "      <td>1012.38</td>\n",
       "      <td>56.0</td>\n",
       "      <td>0.0</td>\n",
       "      <td>77</td>\n",
       "      <td>2012</td>\n",
       "      <td>4</td>\n",
       "      <td>2012</td>\n",
       "      <td>1</td>\n",
       "    </tr>\n",
       "    <tr>\n",
       "      <th>3</th>\n",
       "      <td>40.687286</td>\n",
       "      <td>-73.988217</td>\n",
       "      <td>Brooklyn</td>\n",
       "      <td>NY</td>\n",
       "      <td>urban</td>\n",
       "      <td>New York City Dept Of Ed</td>\n",
       "      <td>Kings (Brooklyn)</td>\n",
       "      <td>0.0</td>\n",
       "      <td>1.0</td>\n",
       "      <td>Ms.</td>\n",
       "      <td>...</td>\n",
       "      <td>high poverty</td>\n",
       "      <td>Grades PreK-2</td>\n",
       "      <td>175.33</td>\n",
       "      <td>23.0</td>\n",
       "      <td>0.0</td>\n",
       "      <td>56</td>\n",
       "      <td>2012</td>\n",
       "      <td>12</td>\n",
       "      <td>2012</td>\n",
       "      <td>10</td>\n",
       "    </tr>\n",
       "    <tr>\n",
       "      <th>4</th>\n",
       "      <td>40.793018</td>\n",
       "      <td>-73.205635</td>\n",
       "      <td>Central Islip</td>\n",
       "      <td>NY</td>\n",
       "      <td>suburban</td>\n",
       "      <td>Central Islip Union Free SD</td>\n",
       "      <td>Suffolk</td>\n",
       "      <td>0.0</td>\n",
       "      <td>0.0</td>\n",
       "      <td>Mrs.</td>\n",
       "      <td>...</td>\n",
       "      <td>high poverty</td>\n",
       "      <td>Grades PreK-2</td>\n",
       "      <td>3591.11</td>\n",
       "      <td>150.0</td>\n",
       "      <td>0.0</td>\n",
       "      <td>77</td>\n",
       "      <td>2013</td>\n",
       "      <td>3</td>\n",
       "      <td>2013</td>\n",
       "      <td>1</td>\n",
       "    </tr>\n",
       "  </tbody>\n",
       "</table>\n",
       "<p>5 rows × 25 columns</p>\n",
       "</div>"
      ],
      "text/plain": [
       "   school_latitude  school_longitude    school_city school_state school_metro  \\\n",
       "0        41.807654        -87.673257        Chicago           IL        urban   \n",
       "1        34.296596       -119.296596        Ventura           CA        urban   \n",
       "2        34.078625       -118.257834    Los Angeles           CA        urban   \n",
       "3        40.687286        -73.988217       Brooklyn           NY        urban   \n",
       "4        40.793018        -73.205635  Central Islip           NY     suburban   \n",
       "\n",
       "                school_district     school_county  school_charter  \\\n",
       "0         Pershing Elem Network              Cook             0.0   \n",
       "1  Ventura Unif School District           Ventura             0.0   \n",
       "2     Los Angeles Unif Sch Dist       Los Angeles             0.0   \n",
       "3      New York City Dept Of Ed  Kings (Brooklyn)             0.0   \n",
       "4   Central Islip Union Free SD           Suffolk             0.0   \n",
       "\n",
       "   school_magnet teacher_prefix  ...    poverty_level    grade_level  \\\n",
       "0            0.0           Mrs.  ...  highest poverty  Grades PreK-2   \n",
       "1            0.0           Mrs.  ...  highest poverty     Grades 3-5   \n",
       "2            0.0            Ms.  ...     high poverty     Grades 3-5   \n",
       "3            1.0            Ms.  ...     high poverty  Grades PreK-2   \n",
       "4            0.0           Mrs.  ...     high poverty  Grades PreK-2   \n",
       "\n",
       "  total_price_including_optional_support students_reached  \\\n",
       "0                                1498.61             31.0   \n",
       "1                                 282.47             28.0   \n",
       "2                                1012.38             56.0   \n",
       "3                                 175.33             23.0   \n",
       "4                                3591.11            150.0   \n",
       "\n",
       "  eligible_double_your_impact_match days_fully_funded datefullyfunded_year  \\\n",
       "0                               0.0                19                 2013   \n",
       "1                               1.0                12                 2012   \n",
       "2                               0.0                77                 2012   \n",
       "3                               0.0                56                 2012   \n",
       "4                               0.0                77                 2013   \n",
       "\n",
       "   datefullyfunded_month  date_posted_year  date_posted_month  \n",
       "0                      5              2013                  4  \n",
       "1                      4              2012                  4  \n",
       "2                      4              2012                  1  \n",
       "3                     12              2012                 10  \n",
       "4                      3              2013                  1  \n",
       "\n",
       "[5 rows x 25 columns]"
      ]
     },
     "execution_count": 7,
     "metadata": {},
     "output_type": "execute_result"
    }
   ],
   "source": [
    "project = train_pipe.data.copy(deep=True)\n",
    "project.head()"
   ]
  },
  {
   "cell_type": "markdown",
   "metadata": {},
   "source": [
    "Finish the preprocessing."
   ]
  },
  {
   "cell_type": "code",
   "execution_count": 8,
   "metadata": {},
   "outputs": [
    {
     "name": "stderr",
     "output_type": "stream",
     "text": [
      "\n",
      "\n",
      "Start to combine unnecessary levels of multinomials.\n",
      "\tCombinations of levels on 'school_city'.\n",
      "\tCombinations of levels on 'school_state'.\n",
      "\tCombinations of levels on 'school_district'.\n",
      "\tCombinations of levels on 'school_county'.\n",
      "\tCombinations of levels on 'primary_focus_subject'.\n",
      "\tCombinations of levels on 'primary_focus_area'.\n",
      "\tCombinations of levels on 'secondary_focus_subject'.\n",
      "\tCombinations of levels on 'secondary_focus_area'.\n",
      "\tCombinations of levels on 'resource_type'.\n",
      "\n",
      "\n",
      "Finished applying one-hot-encoding to the following categorical variables: ['school_city', 'school_state', 'school_district', 'school_county', 'school_metro', 'teacher_prefix', 'primary_focus_subject', 'primary_focus_area', 'secondary_focus_subject', 'secondary_focus_area', 'resource_type', 'poverty_level', 'grade_level']\n",
      "\n",
      "\n",
      "\n",
      "\n",
      "<Training data preprocessing> Fitted scaler dumped to 'fitted_scaler.pkl' under directory '../data/Batch Full/'.\n",
      "Finished scaling the feature matrix.\n",
      "\n",
      "\n",
      "Saved the resulting NumPy matrices to directory '../processed_data/Batch Full/'. Features are in 'X_train.npy' and target is in 'y_train.npy'.\n"
     ]
    }
   ],
   "source": [
    "train_pipe.to_combine().one_hot()\n",
    "train_pipe.X = train_pipe.data\n",
    "train_pipe.scale().save_data()"
   ]
  },
  {
   "cell_type": "markdown",
   "metadata": {},
   "source": [
    "Up till now, data is ready for clustering."
   ]
  },
  {
   "cell_type": "code",
   "execution_count": 9,
   "metadata": {},
   "outputs": [],
   "source": [
    "X = train_pipe.X"
   ]
  },
  {
   "cell_type": "markdown",
   "metadata": {},
   "source": [
    "## 3. Projects Clustering"
   ]
  },
  {
   "cell_type": "code",
   "execution_count": 10,
   "metadata": {},
   "outputs": [],
   "source": [
    "kmeans_pipe = KMeansPipeline(X, project, [5, 10, 50, 100, 200, 300, 500])"
   ]
  },
  {
   "cell_type": "code",
   "execution_count": 11,
   "metadata": {},
   "outputs": [
    {
     "data": {
      "image/png": "[encoded data removed]",
      "text/plain": [
       "<Figure size 432x288 with 1 Axes>"
      ]
     },
     "metadata": {
      "needs_background": "light"
     },
     "output_type": "display_data"
    }
   ],
   "source": [
    "kmeans_pipe.find_best_k()"
   ]
  },
  {
   "cell_type": "markdown",
   "metadata": {},
   "source": [
    "There's no obvious elbow but 50 seems to be a reasonable number of clusters."
   ]
  },
  {
   "cell_type": "markdown",
   "metadata": {},
   "source": [
    "## 4. User Interaction"
   ]
  },
  {
   "cell_type": "markdown",
   "metadata": {},
   "source": [
    "#### 1. Recluster"
   ]
  },
  {
   "cell_type": "markdown",
   "metadata": {},
   "source": [
    "User can recluster with a new `k`, say, 75 with the `cluster(k)` method. It returns a KMeans fitted model."
   ]
  },
  {
   "cell_type": "code",
   "execution_count": 12,
   "metadata": {},
   "outputs": [
    {
     "data": {
      "text/plain": [
       "KMeans(algorithm='auto', copy_x=True, init='k-means++', max_iter=300,\n",
       "    n_clusters=75, n_init=10, n_jobs=None, precompute_distances='auto',\n",
       "    random_state=123, tol=0.0001, verbose=0)"
      ]
     },
     "execution_count": 12,
     "metadata": {},
     "output_type": "execute_result"
    }
   ],
   "source": [
    "kmeans_75 = kmeans_pipe.cluster(75)\n",
    "kmeans_75"
   ]
  },
  {
   "cell_type": "markdown",
   "metadata": {},
   "source": [
    "#### 2. Merge several clusters into one"
   ]
  },
  {
   "cell_type": "markdown",
   "metadata": {},
   "source": [
    "To split a specific cluster into many, the user need to apply one KMeans model to the data. Say KMeans model with 50 clusters."
   ]
  },
  {
   "cell_type": "code",
   "execution_count": 13,
   "metadata": {
    "scrolled": true
   },
   "outputs": [
    {
     "data": {
      "text/plain": [
       "<kmeans.KMeansPipeline at 0x20c132c8160>"
      ]
     },
     "execution_count": 13,
     "metadata": {},
     "output_type": "execute_result"
    }
   ],
   "source": [
    "kmeans_pipe.apply_cluster(50)"
   ]
  },
  {
   "cell_type": "markdown",
   "metadata": {},
   "source": [
    "The `merge_clusters(to_merge)` method implemented the function. Below shows an example of merging clusters 48, 49 to cluster 47."
   ]
  },
  {
   "cell_type": "code",
   "execution_count": 14,
   "metadata": {
    "scrolled": true
   },
   "outputs": [
    {
     "data": {
      "text/plain": [
       "47    3137\n",
       "49    2462\n",
       "48    2328\n",
       "Name: Cluster, dtype: int64"
      ]
     },
     "execution_count": 14,
     "metadata": {},
     "output_type": "execute_result"
    }
   ],
   "source": [
    "kmeans_pipe.data.Cluster[kmeans_pipe.data.Cluster.isin([48, 49, 47])].value_counts()"
   ]
  },
  {
   "cell_type": "code",
   "execution_count": 15,
   "metadata": {
    "scrolled": false
   },
   "outputs": [
    {
     "data": {
      "text/plain": [
       "<kmeans.KMeansPipeline at 0x20c132c8160>"
      ]
     },
     "execution_count": 15,
     "metadata": {},
     "output_type": "execute_result"
    }
   ],
   "source": [
    "kmeans_pipe.merge_clusters([48, 49], 47)"
   ]
  },
  {
   "cell_type": "code",
   "execution_count": 16,
   "metadata": {},
   "outputs": [
    {
     "data": {
      "text/plain": [
       "47    7927\n",
       "Name: Cluster, dtype: int64"
      ]
     },
     "execution_count": 16,
     "metadata": {},
     "output_type": "execute_result"
    }
   ],
   "source": [
    "kmeans_pipe.data.Cluster[kmeans_pipe.data.Cluster.isin([48, 49, 47])].value_counts()"
   ]
  },
  {
   "cell_type": "markdown",
   "metadata": {},
   "source": [
    "#### 3. Split a specific cluster into many"
   ]
  },
  {
   "cell_type": "markdown",
   "metadata": {},
   "source": [
    "To split a specific cluster, first the user need to apply a certain clustering."
   ]
  },
  {
   "cell_type": "code",
   "execution_count": 17,
   "metadata": {},
   "outputs": [
    {
     "data": {
      "text/plain": [
       "<kmeans.KMeansPipeline at 0x20c132c8160>"
      ]
     },
     "execution_count": 17,
     "metadata": {},
     "output_type": "execute_result"
    }
   ],
   "source": [
    "kmeans_pipe.apply_cluster(50)"
   ]
  },
  {
   "cell_type": "markdown",
   "metadata": {},
   "source": [
    "Then he need to pick a specific cluster to further cluster on."
   ]
  },
  {
   "cell_type": "code",
   "execution_count": 20,
   "metadata": {},
   "outputs": [],
   "source": [
    "sub_cluster = kmeans_pipe.data[kmeans_pipe.data.Cluster.isin([46, 47])]"
   ]
  },
  {
   "cell_type": "code",
   "execution_count": 22,
   "metadata": {},
   "outputs": [
    {
     "data": {
      "text/plain": [
       "Int64Index([    13,     76,     89,     91,    103,    108,    121,    150,\n",
       "               169,    170,\n",
       "            ...\n",
       "            124764, 124784, 124785, 124788, 124816, 124834, 124848, 124870,\n",
       "            124901, 124972],\n",
       "           dtype='int64', length=5732)"
      ]
     },
     "execution_count": 22,
     "metadata": {},
     "output_type": "execute_result"
    }
   ],
   "source": [
    "kmeans_pipe.data.Cluster[kmeans_pipe.data.Cluster.isin([46, 47])].index"
   ]
  },
  {
   "cell_type": "code",
   "execution_count": null,
   "metadata": {},
   "outputs": [],
   "source": [
    "cluster_47 = kmeans_pipe.data[kmeans_pipe.data.Cluster == 47].copy(deep=True)\n",
    "cluster_47.shape"
   ]
  },
  {
   "cell_type": "markdown",
   "metadata": {},
   "source": [
    "Apply preprocessing."
   ]
  },
  {
   "cell_type": "code",
   "execution_count": null,
   "metadata": {
    "scrolled": false
   },
   "outputs": [],
   "source": [
    "cluster_47_pipe = FeaturePipeLine(\"Cluster 47\", cluster_47, ask_user=False, test=False)\n",
    "cluster_47_pipe.to_combine().one_hot()\n",
    "cluster_47_pipe.X = cluster_47_pipe.data\n",
    "cluster_47_pipe.scale()"
   ]
  },
  {
   "cell_type": "markdown",
   "metadata": {},
   "source": [
    "To store KMeans models fitted on a single cluster from previous clustering process, create a new directory."
   ]
  },
  {
   "cell_type": "code",
   "execution_count": null,
   "metadata": {},
   "outputs": [],
   "source": [
    "cluster47_path = './models/full50/cluster47/'\n",
    "create_dirs('./models/full50/cluster47/')"
   ]
  },
  {
   "cell_type": "code",
   "execution_count": null,
   "metadata": {},
   "outputs": [],
   "source": [
    "kmeans47 = KMeansPipeline(cluster_47_pipe.X, cluster_47, [5, 10, 20, 50, 100], output_dir=cluster47_path)\n",
    "kmeans47.find_best_k()"
   ]
  },
  {
   "cell_type": "markdown",
   "metadata": {},
   "source": [
    "This allows users to split a specific cluster into many."
   ]
  },
  {
   "cell_type": "code",
   "execution_count": null,
   "metadata": {},
   "outputs": [],
   "source": []
  }
 ],
 "metadata": {
  "kernelspec": {
   "display_name": "Python 3",
   "language": "python",
   "name": "python3"
  },
  "language_info": {
   "codemirror_mode": {
    "name": "ipython",
    "version": 3
   },
   "file_extension": ".py",
   "mimetype": "text/x-python",
   "name": "python",
   "nbconvert_exporter": "python",
   "pygments_lexer": "ipython3",
   "version": "3.7.3"
  }
 },
 "nbformat": 4,
 "nbformat_minor": 2
}
